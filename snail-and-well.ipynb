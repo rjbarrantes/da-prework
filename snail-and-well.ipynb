{
 "cells": [
  {
   "cell_type": "markdown",
   "metadata": {},
   "source": [
    "# Snail and well\n",
    "\n",
    "A snail falls at the bottom of a 125 cm well. Each day the snail rises 30 cm. But at night, while sleeping, slides 20 cm because the walls are wet. How many days does it take to escape from the well?\n",
    "\n",
    "TIP: http://puzzles.nigelcoldwell.co.uk/sixtytwo.htm"
   ]
  },
  {
   "cell_type": "markdown",
   "metadata": {},
   "source": [
    "## Solución"
   ]
  },
  {
   "cell_type": "code",
   "execution_count": 2,
   "metadata": {},
   "outputs": [
    {
     "name": "stdout",
     "output_type": "stream",
     "text": [
      "Days =  11\n"
     ]
    }
   ],
   "source": [
    "# Assign problem data to variables with representative names\n",
    "# well height, daily advance, night retreat, accumulated distance\n",
    "\n",
    "well_height = 125\n",
    "daily_advance = 30\n",
    "nightly_retreat = 20\n",
    "accumulated_distance = 0\n",
    "\n",
    "# Assign 0 to the variable that represents the solution\n",
    "\n",
    "days = 0\n",
    "\n",
    "# Write the code that solves the problem\n",
    "\n",
    "accumulated_distance = 30\n",
    "days = 1\n",
    "while accumulated_distance < well_height:\n",
    "    accumulated_distance = accumulated_distance + daily_advance - nightly_retreat\n",
    "    days += 1\n",
    "\n",
    "# Print the result with print('Days =', days)\n",
    "\n",
    "print('Days = ', days)"
   ]
  },
  {
   "cell_type": "markdown",
   "metadata": {},
   "source": [
    "## Goals\n",
    "\n",
    "1. Treatment of variables\n",
    "2. Use of loop **while**\n",
    "3. Use of conditional **if-else**\n",
    "4. Print in console"
   ]
  },
  {
   "cell_type": "markdown",
   "metadata": {},
   "source": [
    "## Bonus\n",
    "The distance traveled by the snail is now defined by a list.\n",
    "```\n",
    "advance_cm = [30, 21, 33, 77, 44, 45, 23, 45, 12, 34, 55]\n",
    "```\n",
    "How long does it take to raise the well?\n",
    "\n",
    "What is its maximum displacement in one day? And its minimum?\n",
    "\n",
    "What is its average speed during the day?\n",
    "\n",
    "What is the standard deviation of its displacement during the day?"
   ]
  },
  {
   "cell_type": "code",
   "execution_count": 17,
   "metadata": {},
   "outputs": [
    {
     "name": "stdout",
     "output_type": "stream",
     "text": [
      "Days = 4\n",
      "Max Displacement = 77\n",
      "Min Displacement = 12\n",
      "Avg Displacement = 38.09090909090909\n",
      "StDev Displacement = 17.996969441850734\n"
     ]
    }
   ],
   "source": [
    "# Assign problem data to variables with representative names\n",
    "# well height, daily advance, night retreat, accumulated distance\n",
    "\n",
    "well_height = 125\n",
    "daily_advance = 30\n",
    "nightly_retreat = 20\n",
    "accumulated_distance = 0\n",
    "advance = [30, 21, 33, 77, 44, 45, 23, 45, 12, 34, 55]\n",
    "\n",
    "# Assign 0 to the variable that represents the solution\n",
    "\n",
    "days = 0\n",
    "\n",
    "# Write the code that solves the problem\n",
    "    \n",
    "for i in list(range(len(advance))):\n",
    "    accumulated_distance = accumulated_distance + advance[i]\n",
    "    days += 1\n",
    "    if accumulated_distance > well_height:\n",
    "        break\n",
    "# Print the result with print('Days =', days)\n",
    "\n",
    "print('Days =', days)\n",
    "\n",
    "# What is its maximum displacement in a day? And its minimum?\n",
    "\n",
    "max_displacement = max(advance)\n",
    "min_displacement = min(advance)\n",
    "print('Max Displacement =', max_displacement)\n",
    "print('Min Displacement =', min_displacement)\n",
    "\n",
    "# What is its average progress?\n",
    "\n",
    "avg_displacement = sum(advance) / len(advance)\n",
    "print('Avg Displacement =', avg_displacement)\n",
    "\n",
    "# What is the standard deviation of your displacement during the day?\n",
    "\n",
    "devs = []\n",
    "\n",
    "for i in advance:\n",
    "    devs.append((i - avg_displacement)**2)\n",
    "\n",
    "stdev_displacement = (sum(devs) / (len(advance) - 1))**.5\n",
    "\n",
    "print('StDev Displacement =', stdev_displacement)"
   ]
  },
  {
   "cell_type": "code",
   "execution_count": null,
   "metadata": {},
   "outputs": [],
   "source": []
  }
 ],
 "metadata": {
  "kernelspec": {
   "display_name": "Python 3",
   "language": "python",
   "name": "python3"
  },
  "language_info": {
   "codemirror_mode": {
    "name": "ipython",
    "version": 3
   },
   "file_extension": ".py",
   "mimetype": "text/x-python",
   "name": "python",
   "nbconvert_exporter": "python",
   "pygments_lexer": "ipython3",
   "version": "3.6.8"
  }
 },
 "nbformat": 4,
 "nbformat_minor": 2
}
